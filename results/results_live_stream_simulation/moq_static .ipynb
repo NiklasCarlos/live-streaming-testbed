{
  "nbformat": 4,
  "nbformat_minor": 0,
  "metadata": {
    "colab": {
      "provenance": []
    },
    "kernelspec": {
      "name": "python3",
      "display_name": "Python 3"
    },
    "language_info": {
      "name": "python"
    }
  },
  "cells": [
    {
      "cell_type": "code",
      "execution_count": null,
      "metadata": {
        "colab": {
          "base_uri": "https://localhost:8080/"
        },
        "id": "uSwX8zf8r1MD",
        "outputId": "b3a02244-6e78-42fb-e74a-ddc3db0efeba"
      },
      "outputs": [
        {
          "output_type": "stream",
          "name": "stdout",
          "text": [
            "Current Working Directory: /content\n"
          ]
        }
      ],
      "source": [
        "import pandas as pd\n",
        "import matplotlib.pyplot as plt\n",
        "import numpy as np\n",
        "import os\n",
        "\n",
        "# Getting the current working directory\n",
        "current_working_directory = os.getcwd()\n",
        "\n",
        "# Printing the current working directory\n",
        "print(\"Current Working Directory:\", current_working_directory)\n"
      ]
    },
    {
      "cell_type": "code",
      "source": [
        "\n",
        "# Replace 'your_file.csv' with the path to your CSV file\n",
        "file_path = '/content/moq_static.csv'\n",
        "\n",
        "df = pd.read_csv(file_path, delimiter=';')\n",
        "\n",
        "# Display the first few rows of the DataFrame\n",
        "print(df.head())"
      ],
      "metadata": {
        "colab": {
          "base_uri": "https://localhost:8080/"
        },
        "id": "0-o6z90sr6OJ",
        "outputId": "3f91b246-9300-4121-9df8-a35ad8a07c2b"
      },
      "execution_count": null,
      "outputs": [
        {
          "output_type": "stream",
          "name": "stdout",
          "text": [
            "   Frame Count Start Time End Time\n",
            "0            0        NaN      NaN\n",
            "1            1        NaN      NaN\n",
            "2            2        NaN      NaN\n",
            "3            3        NaN      NaN\n",
            "4            4        NaN      NaN\n"
          ]
        }
      ]
    },
    {
      "cell_type": "code",
      "source": [
        "print(\"Column Names:\", df.columns)\n"
      ],
      "metadata": {
        "colab": {
          "base_uri": "https://localhost:8080/"
        },
        "id": "OWFpa3AWsIe5",
        "outputId": "240dd904-3029-47f0-c083-adb7e55fc87c"
      },
      "execution_count": null,
      "outputs": [
        {
          "output_type": "stream",
          "name": "stdout",
          "text": [
            "Column Names: Index(['Frame Count', 'Start Time', 'End Time'], dtype='object')\n"
          ]
        }
      ]
    },
    {
      "cell_type": "code",
      "source": [
        "# Remove rows where 'End Time' is missing\n",
        "df.dropna(subset=['End Time'], inplace=True)\n",
        "\n",
        "# Check the result\n",
        "print(df.head())"
      ],
      "metadata": {
        "colab": {
          "base_uri": "https://localhost:8080/"
        },
        "id": "BFfv7xUct_Fw",
        "outputId": "a92db18f-f61a-4985-be6c-9e658a160244"
      },
      "execution_count": null,
      "outputs": [
        {
          "output_type": "stream",
          "name": "stdout",
          "text": [
            "     Frame Count                Start Time                  End Time\n",
            "600          600   2024-01-23 11:45:44.037   2024-01-23 11:45:44.118\n",
            "631          631   2024-01-23 11:45:45.337   2024-01-23 11:45:45.403\n",
            "648          648   2024-01-23 11:45:46.040   2024-01-23 11:45:46.120\n",
            "673          673   2024-01-23 11:45:47.082   2024-01-23 11:45:47.138\n",
            "697          697   2024-01-23 11:45:48.084   2024-01-23 11:45:48.136\n"
          ]
        }
      ]
    },
    {
      "cell_type": "code",
      "source": [
        "# Convert 'Start Time' and 'End Time' to datetime\n",
        "df['Start Time'] = pd.to_datetime(df['Start Time'])\n",
        "df['End Time'] = pd.to_datetime(df['End Time'])\n",
        "\n",
        "# Calculate latency in milliseconds and store in a new column\n",
        "df['Latency'] = (df['End Time'] - df['Start Time']).dt.total_seconds()\n",
        "\n",
        "# Display the DataFrame to verify the results\n",
        "print(df.head())"
      ],
      "metadata": {
        "colab": {
          "base_uri": "https://localhost:8080/"
        },
        "id": "q1-nqLfUu6pz",
        "outputId": "53b90fd9-71c5-48e8-f38d-c30191c6d7b3"
      },
      "execution_count": null,
      "outputs": [
        {
          "output_type": "stream",
          "name": "stdout",
          "text": [
            "     Frame Count              Start Time                End Time  Latency\n",
            "600          600 2024-01-23 11:45:44.037 2024-01-23 11:45:44.118    0.081\n",
            "631          631 2024-01-23 11:45:45.337 2024-01-23 11:45:45.403    0.066\n",
            "648          648 2024-01-23 11:45:46.040 2024-01-23 11:45:46.120    0.080\n",
            "673          673 2024-01-23 11:45:47.082 2024-01-23 11:45:47.138    0.056\n",
            "697          697 2024-01-23 11:45:48.084 2024-01-23 11:45:48.136    0.052\n"
          ]
        }
      ]
    },
    {
      "cell_type": "code",
      "source": [
        "print(df)\n"
      ],
      "metadata": {
        "colab": {
          "base_uri": "https://localhost:8080/"
        },
        "id": "XyMDISJ_vCzu",
        "outputId": "823ae635-e2ce-4e32-d9a1-2004ad8da26a"
      },
      "execution_count": null,
      "outputs": [
        {
          "output_type": "stream",
          "name": "stdout",
          "text": [
            "      Frame Count              Start Time                End Time  Latency\n",
            "600           600 2024-01-23 11:45:44.037 2024-01-23 11:45:44.118    0.081\n",
            "631           631 2024-01-23 11:45:45.337 2024-01-23 11:45:45.403    0.066\n",
            "648           648 2024-01-23 11:45:46.040 2024-01-23 11:45:46.120    0.080\n",
            "673           673 2024-01-23 11:45:47.082 2024-01-23 11:45:47.138    0.056\n",
            "697           697 2024-01-23 11:45:48.084 2024-01-23 11:45:48.136    0.052\n",
            "721           721 2024-01-23 11:45:49.084 2024-01-23 11:45:49.157    0.073\n",
            "746           746 2024-01-23 11:45:50.126 2024-01-23 11:45:50.174    0.048\n",
            "770           770 2024-01-23 11:45:51.128 2024-01-23 11:45:51.175    0.047\n",
            "791           791 2024-01-23 11:45:52.005 2024-01-23 11:45:52.060    0.055\n",
            "818           818 2024-01-23 11:45:53.122 2024-01-23 11:45:53.196    0.074\n",
            "844           844 2024-01-23 11:45:54.206 2024-01-23 11:45:54.278    0.072\n",
            "865           865 2024-01-23 11:45:55.090 2024-01-23 11:45:55.146    0.056\n",
            "907           907 2024-01-23 11:45:56.833 2024-01-23 11:45:56.899    0.066\n",
            "915           915 2024-01-23 11:45:57.176 2024-01-23 11:45:57.242    0.066\n",
            "939           939 2024-01-23 11:45:58.177 2024-01-23 11:45:58.216    0.039\n",
            "961           961 2024-01-23 11:45:59.085 2024-01-23 11:45:59.167    0.082\n",
            "992           992 2024-01-23 11:46:00.380 2024-01-23 11:46:00.451    0.071\n",
            "1011         1011 2024-01-23 11:46:01.163 2024-01-23 11:46:01.219    0.056\n",
            "1033         1033 2024-01-23 11:46:02.081 2024-01-23 11:46:02.136    0.055\n",
            "1059         1059 2024-01-23 11:46:03.165 2024-01-23 11:46:03.237    0.072\n",
            "1081         1081 2024-01-23 11:46:04.083 2024-01-23 11:46:04.138    0.055\n",
            "1106         1106 2024-01-23 11:46:05.125 2024-01-23 11:46:05.189    0.064\n",
            "1130         1130 2024-01-23 11:46:06.135 2024-01-23 11:46:06.198    0.063\n",
            "1156         1156 2024-01-23 11:46:07.210 2024-01-23 11:46:07.275    0.065\n",
            "1178         1178 2024-01-23 11:46:08.120 2024-01-23 11:46:08.192    0.072\n",
            "1204         1204 2024-01-23 11:46:09.205 2024-01-23 11:46:09.270    0.065\n",
            "1225         1225 2024-01-23 11:46:10.089 2024-01-23 11:46:10.145    0.056\n",
            "1254         1254 2024-01-23 11:46:11.290 2024-01-23 11:46:11.362    0.072\n",
            "1275         1275 2024-01-23 11:46:12.174 2024-01-23 11:46:12.216    0.042\n",
            "1298         1298 2024-01-23 11:46:13.125 2024-01-23 11:46:13.197    0.072\n",
            "1321         1321 2024-01-23 11:46:14.125 2024-01-23 11:46:14.182    0.057\n",
            "1346         1346 2024-01-23 11:46:15.128 2024-01-23 11:46:15.188    0.060\n"
          ]
        }
      ]
    },
    {
      "cell_type": "code",
      "source": [
        "# Convert 'Start Time' to datetime\n",
        "df['Start Time'] = pd.to_datetime(df['Start Time'])\n",
        "\n",
        "# Calculate the base time (start of your interval)\n",
        "base_time = pd.to_datetime('2024-01-23 11:45:44')\n",
        "\n",
        "# Calculate the elapsed time in seconds since the base time\n",
        "df['Adjusted Time'] = (df['Start Time'] - base_time).dt.total_seconds()\n",
        "\n",
        "# Convert 'Latency' to milliseconds\n",
        "df['Latency'] = df['Latency'] * 1000\n",
        "\n",
        "average_latency = df['Latency'].mean()\n"
      ],
      "metadata": {
        "id": "3JJyUOIPvKDm"
      },
      "execution_count": null,
      "outputs": []
    },
    {
      "cell_type": "code",
      "source": [
        "# Plotting\n",
        "plt.figure(figsize=(10, 6))\n",
        "plt.scatter(df['Adjusted Time'], df['Latency'], marker='o')\n",
        "plt.axhline(y=average_latency, color='r', linestyle='-', label='Average Latency')\n",
        "\n",
        "plt.xlabel('Time Elapsed Since Interval Start (seconds)')\n",
        "plt.ylabel('Latency (ms)')\n",
        "plt.title('Latency in a 30 second playback interval')\n",
        "plt.grid(True)\n",
        "plt.show()\n",
        "\n",
        "print(df)"
      ],
      "metadata": {
        "colab": {
          "base_uri": "https://localhost:8080/",
          "height": 1000
        },
        "id": "txJem8BF1VJt",
        "outputId": "aae0a84e-cb24-40da-8ab8-e61accbcfa9a"
      },
      "execution_count": null,
      "outputs": [
        {
          "output_type": "display_data",
          "data": {
            "text/plain": [
              "<Figure size 1000x600 with 1 Axes>"
            ],
            "image/png": "[encoded data removed]"
          },
          "metadata": {}
        },
        {
          "output_type": "stream",
          "name": "stdout",
          "text": [
            "      Frame Count              Start Time                End Time  Latency  \\\n",
            "600           600 2024-01-23 11:45:44.037 2024-01-23 11:45:44.118     81.0   \n",
            "631           631 2024-01-23 11:45:45.337 2024-01-23 11:45:45.403     66.0   \n",
            "648           648 2024-01-23 11:45:46.040 2024-01-23 11:45:46.120     80.0   \n",
            "673           673 2024-01-23 11:45:47.082 2024-01-23 11:45:47.138     56.0   \n",
            "697           697 2024-01-23 11:45:48.084 2024-01-23 11:45:48.136     52.0   \n",
            "721           721 2024-01-23 11:45:49.084 2024-01-23 11:45:49.157     73.0   \n",
            "746           746 2024-01-23 11:45:50.126 2024-01-23 11:45:50.174     48.0   \n",
            "770           770 2024-01-23 11:45:51.128 2024-01-23 11:45:51.175     47.0   \n",
            "791           791 2024-01-23 11:45:52.005 2024-01-23 11:45:52.060     55.0   \n",
            "818           818 2024-01-23 11:45:53.122 2024-01-23 11:45:53.196     74.0   \n",
            "844           844 2024-01-23 11:45:54.206 2024-01-23 11:45:54.278     72.0   \n",
            "865           865 2024-01-23 11:45:55.090 2024-01-23 11:45:55.146     56.0   \n",
            "907           907 2024-01-23 11:45:56.833 2024-01-23 11:45:56.899     66.0   \n",
            "915           915 2024-01-23 11:45:57.176 2024-01-23 11:45:57.242     66.0   \n",
            "939           939 2024-01-23 11:45:58.177 2024-01-23 11:45:58.216     39.0   \n",
            "961           961 2024-01-23 11:45:59.085 2024-01-23 11:45:59.167     82.0   \n",
            "992           992 2024-01-23 11:46:00.380 2024-01-23 11:46:00.451     71.0   \n",
            "1011         1011 2024-01-23 11:46:01.163 2024-01-23 11:46:01.219     56.0   \n",
            "1033         1033 2024-01-23 11:46:02.081 2024-01-23 11:46:02.136     55.0   \n",
            "1059         1059 2024-01-23 11:46:03.165 2024-01-23 11:46:03.237     72.0   \n",
            "1081         1081 2024-01-23 11:46:04.083 2024-01-23 11:46:04.138     55.0   \n",
            "1106         1106 2024-01-23 11:46:05.125 2024-01-23 11:46:05.189     64.0   \n",
            "1130         1130 2024-01-23 11:46:06.135 2024-01-23 11:46:06.198     63.0   \n",
            "1156         1156 2024-01-23 11:46:07.210 2024-01-23 11:46:07.275     65.0   \n",
            "1178         1178 2024-01-23 11:46:08.120 2024-01-23 11:46:08.192     72.0   \n",
            "1204         1204 2024-01-23 11:46:09.205 2024-01-23 11:46:09.270     65.0   \n",
            "1225         1225 2024-01-23 11:46:10.089 2024-01-23 11:46:10.145     56.0   \n",
            "1254         1254 2024-01-23 11:46:11.290 2024-01-23 11:46:11.362     72.0   \n",
            "1275         1275 2024-01-23 11:46:12.174 2024-01-23 11:46:12.216     42.0   \n",
            "1298         1298 2024-01-23 11:46:13.125 2024-01-23 11:46:13.197     72.0   \n",
            "1321         1321 2024-01-23 11:46:14.125 2024-01-23 11:46:14.182     57.0   \n",
            "1346         1346 2024-01-23 11:46:15.128 2024-01-23 11:46:15.188     60.0   \n",
            "\n",
            "      Adjusted Time  \n",
            "600           0.037  \n",
            "631           1.337  \n",
            "648           2.040  \n",
            "673           3.082  \n",
            "697           4.084  \n",
            "721           5.084  \n",
            "746           6.126  \n",
            "770           7.128  \n",
            "791           8.005  \n",
            "818           9.122  \n",
            "844          10.206  \n",
            "865          11.090  \n",
            "907          12.833  \n",
            "915          13.176  \n",
            "939          14.177  \n",
            "961          15.085  \n",
            "992          16.380  \n",
            "1011         17.163  \n",
            "1033         18.081  \n",
            "1059         19.165  \n",
            "1081         20.083  \n",
            "1106         21.125  \n",
            "1130         22.135  \n",
            "1156         23.210  \n",
            "1178         24.120  \n",
            "1204         25.205  \n",
            "1225         26.089  \n",
            "1254         27.290  \n",
            "1275         28.174  \n",
            "1298         29.125  \n",
            "1321         30.125  \n",
            "1346         31.128  \n"
          ]
        }
      ]
    },
    {
      "cell_type": "code",
      "source": [
        "# Calculate median and 0.75 quantile for Latency to provide insights into the distribution of latency values\n",
        "median_latency = df['Latency'].median()\n",
        "quantile_75_latency = df['Latency'].quantile(0.75)\n",
        "\n",
        "print(\"Median Latency (ms):\", median_latency)\n",
        "print(\"0.75 Quantile of Latency (ms):\", quantile_75_latency)\n"
      ],
      "metadata": {
        "colab": {
          "base_uri": "https://localhost:8080/"
        },
        "id": "2viipZGC2fVB",
        "outputId": "f426d595-4e2c-497b-a6cc-ac481ae69a31"
      },
      "execution_count": null,
      "outputs": [
        {
          "output_type": "stream",
          "name": "stdout",
          "text": [
            "Median Latency (ms): 64.5\n",
            "0.75 Quantile of Latency (ms): 72.0\n"
          ]
        }
      ]
    },
    {
      "cell_type": "code",
      "source": [
        "df['Latency'].describe()"
      ],
      "metadata": {
        "colab": {
          "base_uri": "https://localhost:8080/"
        },
        "id": "wAZsAP2R2iq8",
        "outputId": "9154eb7a-2a18-4b96-b11c-e39aa081a534"
      },
      "execution_count": null,
      "outputs": [
        {
          "output_type": "execute_result",
          "data": {
            "text/plain": [
              "count    32.000000\n",
              "mean     62.812500\n",
              "std      10.999817\n",
              "min      39.000000\n",
              "25%      55.750000\n",
              "50%      64.500000\n",
              "75%      72.000000\n",
              "max      82.000000\n",
              "Name: Latency, dtype: float64"
            ]
          },
          "metadata": {},
          "execution_count": 10
        }
      ]
    },
    {
      "cell_type": "code",
      "source": [
        "plt.hist(df['Latency'], bins=20, edgecolor='black')\n",
        "plt.xlabel('Latency (ms)')\n",
        "plt.ylabel('Frequency')\n",
        "plt.title('Histogram of Latency')\n",
        "plt.show()"
      ],
      "metadata": {
        "colab": {
          "base_uri": "https://localhost:8080/",
          "height": 472
        },
        "id": "ZpIpvBO_2mm9",
        "outputId": "b3475280-1231-4ac9-a946-d48ddce2173e"
      },
      "execution_count": null,
      "outputs": [
        {
          "output_type": "display_data",
          "data": {
            "text/plain": [
              "<Figure size 640x480 with 1 Axes>"
            ],
            "image/png": "[encoded data removed]"
          },
          "metadata": {}
        }
      ]
    },
    {
      "cell_type": "code",
      "source": [
        "plt.boxplot(df['Latency'])\n",
        "plt.ylabel('Latency (ms)')\n",
        "plt.title('Box Plot of Latency')\n",
        "plt.show()"
      ],
      "metadata": {
        "colab": {
          "base_uri": "https://localhost:8080/",
          "height": 452
        },
        "id": "xIW43CHb2ueE",
        "outputId": "599e2b1c-7a4c-4532-c9a4-bf9b053e19e5"
      },
      "execution_count": null,
      "outputs": [
        {
          "output_type": "display_data",
          "data": {
            "text/plain": [
              "<Figure size 640x480 with 1 Axes>"
            ],
            "image/png": "[encoded data removed]"
          },
          "metadata": {}
        }
      ]
    },
    {
      "cell_type": "code",
      "source": [
        "# Calculating the percentage decrease in latency from WebRTC to WebTransport\n",
        "average_latency_webrtc = 70.064516  # in ms\n",
        "average_latency_webtransport = 62.812500  # in ms\n",
        "\n",
        "percentage_decrease = ((average_latency_webrtc - average_latency_webtransport) / average_latency_webrtc) * 100\n",
        "percentage_decrease\n"
      ],
      "metadata": {
        "colab": {
          "base_uri": "https://localhost:8080/"
        },
        "id": "5XhdEu09geZS",
        "outputId": "0e7f293f-e55a-45b6-e33d-ba8c9c02c1e9"
      },
      "execution_count": null,
      "outputs": [
        {
          "output_type": "execute_result",
          "data": {
            "text/plain": [
              "10.350483260313963"
            ]
          },
          "metadata": {},
          "execution_count": 13
        }
      ]
    }
  ]
}